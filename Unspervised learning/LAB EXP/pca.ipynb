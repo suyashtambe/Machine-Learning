{
 "cells": [
  {
   "cell_type": "code",
   "execution_count": 4,
   "metadata": {},
   "outputs": [],
   "source": [
    "import numpy as np\n",
    "import seaborn as sns\n",
    "import matplotlib.pyplot as plt\n",
    "from sklearn.decomposition import PCA\n",
    "from sklearn.model_selection import train_test_split\n",
    "from sklearn.ensemble import RandomForestClassifier\n",
    "from sklearn.metrics import accuracy_score\n",
    "from sklearn.datasets import load_iris\n",
    "import pandas as pd\n",
    "iris = load_iris()"
   ]
  },
  {
   "cell_type": "code",
   "execution_count": 7,
   "metadata": {},
   "outputs": [
    {
     "name": "stdout",
     "output_type": "stream",
     "text": [
      "Iris Dataset - Accuracy without PCA: 1.00, Accuracywith PCA: 1.00\n"
     ]
    }
   ],
   "source": [
    "\n",
    "X_iris, y_iris = iris.data, iris.target\n",
    "X_train_iris, X_test_iris, y_train_iris, y_test_iris = train_test_split(X_iris,\n",
    "y_iris, test_size=0.2, random_state=42)\n",
    "pca = PCA(n_components=4)\n",
    "X_train_pca = pca.fit_transform(X_train_iris)\n",
    "X_test_pca = pca.transform(X_test_iris)\n",
    "model_without_pca = RandomForestClassifier(random_state=42)\n",
    "model_without_pca.fit(X_train_iris, y_train_iris)\n",
    "y_pred_without_pca = model_without_pca.predict(X_test_iris)\n",
    "accuracy_without_pca = accuracy_score(y_test_iris, y_pred_without_pca)\n",
    "model_with_pca = RandomForestClassifier(random_state=42)\n",
    "model_with_pca.fit(X_train_pca, y_train_iris)\n",
    "y_pred_with_pca = model_with_pca.predict(X_test_pca)\n",
    "accuracy_with_pca = accuracy_score(y_test_iris, y_pred_with_pca)\n",
    "print(f\"Iris Dataset - Accuracy without PCA: {accuracy_without_pca:.2f}, Accuracywith PCA: {accuracy_with_pca:.2f}\")"
   ]
  },
  {
   "cell_type": "code",
   "execution_count": null,
   "metadata": {},
   "outputs": [],
   "source": [
    "df =pd.read_csv('/content/pca.csv')\n",
    "df=df.dropna()\n",
    "x_train=df.drop('class',axis=1)\n",
    "x_target=df['class']\n",
    "from sklearn.decomposition import PCA\n",
    "pca = PCA(n_components = 11)\n",
    "pca.fit(x_train)\n",
    "X_train, X_test, y_train, y_test =\n",
    "train_test_split(x_train,x_target,test_size=0.33)\n",
    "from sklearn.svm import SVC\n",
    "svc_model1 = SVC(C= .1, kernel='linear', gamma= 1)\n",
    "svc_model1.fit(X_train, y_train)\n",
    "prediction = svc_model1.predict(X_test)\n",
    "print(accuracy_score(prediction,y_test))\n",
    "df2 =pd.read_csv('/content/pca.csv')\n",
    "df2=df2.dropna()\n",
    "x_train=df2.drop('class',axis=1)\n",
    "x_target=df2['class']\n",
    "X_train, X_test, y_train, y_test =\n",
    "train_test_split(x_train,x_target,test_size=0.33)\n",
    "from sklearn.svm import SVC\n",
    "svc_model1 = SVC(C= .1, kernel='linear', gamma= 1)\n",
    "svc_model1.fit(X_train, y_train)\n",
    "prediction = svc_model1.predict(X_test)\n",
    "print(accuracy_score(prediction,y_test))"
   ]
  }
 ],
 "metadata": {
  "kernelspec": {
   "display_name": "Python 3",
   "language": "python",
   "name": "python3"
  },
  "language_info": {
   "codemirror_mode": {
    "name": "ipython",
    "version": 3
   },
   "file_extension": ".py",
   "mimetype": "text/x-python",
   "name": "python",
   "nbconvert_exporter": "python",
   "pygments_lexer": "ipython3",
   "version": "3.12.2"
  }
 },
 "nbformat": 4,
 "nbformat_minor": 2
}
